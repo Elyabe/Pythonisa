{
  "nbformat": 4,
  "nbformat_minor": 0,
  "metadata": {
    "colab": {
      "name": "Pythonisa.ipynb",
      "provenance": [],
      "collapsed_sections": [],
      "toc_visible": true,
      "include_colab_link": true
    },
    "kernelspec": {
      "name": "python3",
      "display_name": "Python 3"
    }
  },
  "cells": [
    {
      "cell_type": "markdown",
      "metadata": {
        "id": "view-in-github",
        "colab_type": "text"
      },
      "source": [
        "<a href=\"https://colab.research.google.com/github/WellersonPrenholato/Pythonisa/blob/main/Pythonisa.ipynb\" target=\"_parent\"><img src=\"https://colab.research.google.com/assets/colab-badge.svg\" alt=\"Open In Colab\"/></a>"
      ]
    },
    {
      "cell_type": "code",
      "metadata": {
        "id": "hh5i6B4lMRiN",
        "colab": {
          "base_uri": "https://localhost:8080/"
        },
        "outputId": "1078466a-bdfe-490b-c7cd-cf412a28d3c9"
      },
      "source": [
        "!pip3 install pandas\n",
        "!pip3 install --upgrade gspread\n",
        "!pip3 install pulp\n"
      ],
      "execution_count": null,
      "outputs": [
        {
          "output_type": "stream",
          "text": [
            "Requirement already satisfied: pandas in /usr/local/lib/python3.6/dist-packages (1.1.4)\n",
            "Requirement already satisfied: python-dateutil>=2.7.3 in /usr/local/lib/python3.6/dist-packages (from pandas) (2.8.1)\n",
            "Requirement already satisfied: pytz>=2017.2 in /usr/local/lib/python3.6/dist-packages (from pandas) (2018.9)\n",
            "Requirement already satisfied: numpy>=1.15.4 in /usr/local/lib/python3.6/dist-packages (from pandas) (1.18.5)\n",
            "Requirement already satisfied: six>=1.5 in /usr/local/lib/python3.6/dist-packages (from python-dateutil>=2.7.3->pandas) (1.15.0)\n",
            "Requirement already up-to-date: gspread in /usr/local/lib/python3.6/dist-packages (3.6.0)\n",
            "Requirement already satisfied, skipping upgrade: google-auth-oauthlib>=0.4.1 in /usr/local/lib/python3.6/dist-packages (from gspread) (0.4.2)\n",
            "Requirement already satisfied, skipping upgrade: requests>=2.2.1 in /usr/local/lib/python3.6/dist-packages (from gspread) (2.23.0)\n",
            "Requirement already satisfied, skipping upgrade: google-auth>=1.12.0 in /usr/local/lib/python3.6/dist-packages (from gspread) (1.17.2)\n",
            "Requirement already satisfied, skipping upgrade: requests-oauthlib>=0.7.0 in /usr/local/lib/python3.6/dist-packages (from google-auth-oauthlib>=0.4.1->gspread) (1.3.0)\n",
            "Requirement already satisfied, skipping upgrade: urllib3!=1.25.0,!=1.25.1,<1.26,>=1.21.1 in /usr/local/lib/python3.6/dist-packages (from requests>=2.2.1->gspread) (1.24.3)\n",
            "Requirement already satisfied, skipping upgrade: certifi>=2017.4.17 in /usr/local/lib/python3.6/dist-packages (from requests>=2.2.1->gspread) (2020.11.8)\n",
            "Requirement already satisfied, skipping upgrade: chardet<4,>=3.0.2 in /usr/local/lib/python3.6/dist-packages (from requests>=2.2.1->gspread) (3.0.4)\n",
            "Requirement already satisfied, skipping upgrade: idna<3,>=2.5 in /usr/local/lib/python3.6/dist-packages (from requests>=2.2.1->gspread) (2.10)\n",
            "Requirement already satisfied, skipping upgrade: six>=1.9.0 in /usr/local/lib/python3.6/dist-packages (from google-auth>=1.12.0->gspread) (1.15.0)\n",
            "Requirement already satisfied, skipping upgrade: setuptools>=40.3.0 in /usr/local/lib/python3.6/dist-packages (from google-auth>=1.12.0->gspread) (50.3.2)\n",
            "Requirement already satisfied, skipping upgrade: cachetools<5.0,>=2.0.0 in /usr/local/lib/python3.6/dist-packages (from google-auth>=1.12.0->gspread) (4.1.1)\n",
            "Requirement already satisfied, skipping upgrade: pyasn1-modules>=0.2.1 in /usr/local/lib/python3.6/dist-packages (from google-auth>=1.12.0->gspread) (0.2.8)\n",
            "Requirement already satisfied, skipping upgrade: rsa<5,>=3.1.4; python_version >= \"3\" in /usr/local/lib/python3.6/dist-packages (from google-auth>=1.12.0->gspread) (4.6)\n",
            "Requirement already satisfied, skipping upgrade: oauthlib>=3.0.0 in /usr/local/lib/python3.6/dist-packages (from requests-oauthlib>=0.7.0->google-auth-oauthlib>=0.4.1->gspread) (3.1.0)\n",
            "Requirement already satisfied, skipping upgrade: pyasn1<0.5.0,>=0.4.6 in /usr/local/lib/python3.6/dist-packages (from pyasn1-modules>=0.2.1->google-auth>=1.12.0->gspread) (0.4.8)\n",
            "Requirement already satisfied: pulp in /usr/local/lib/python3.6/dist-packages (2.3.1)\n",
            "Requirement already satisfied: amply>=0.1.2 in /usr/local/lib/python3.6/dist-packages (from pulp) (0.1.4)\n",
            "Requirement already satisfied: docutils>=0.3 in /usr/local/lib/python3.6/dist-packages (from amply>=0.1.2->pulp) (0.16)\n",
            "Requirement already satisfied: pyparsing in /usr/local/lib/python3.6/dist-packages (from amply>=0.1.2->pulp) (2.4.7)\n"
          ],
          "name": "stdout"
        }
      ]
    },
    {
      "cell_type": "code",
      "metadata": {
        "id": "kO6ekdYUsuyn"
      },
      "source": [
        "from datetime import datetime\n",
        "import gspread\n",
        "import pandas as pd\n",
        "import numpy as np\n",
        "from pulp import *\n",
        "\n",
        "class BakeryProblem:\n",
        "  def __init__(self, From, SheetUrl, Credentials ):\n",
        "    self.dfRecipes = None\n",
        "    self.dfResources = None\n",
        "    self.lpProblem = None\n",
        "    self.lpVariables = None\n",
        "\n",
        "\n",
        "    if From == 'gsheet':\n",
        "        self.dfRecipes = self.dataframeFromSheet(SheetUrl,\n",
        "            Credentials,\n",
        "            'measures'\n",
        "        )\n",
        "\n",
        "        self.dfResources = self.dataframeFromSheet(SheetUrl,\n",
        "            Credentials,\n",
        "            'total_available'\n",
        "        ) \n",
        "        \n",
        "\n",
        "\n",
        "  \n",
        "  def dataframeFromSheet(self, Source,\n",
        "                       credentialsFilename, \n",
        "                       worksheet):\n",
        "    gc = gspread.service_account(credentialsFilename)\n",
        "    wb = gc.open_by_url(Source)\n",
        "    data = wb.worksheet(worksheet).get_all_values()\n",
        "    headers = data.pop(0)\n",
        "\n",
        "    df = pd.DataFrame(data, columns=headers, dtype=np.float)\n",
        "  \n",
        "    return df\n",
        "\n",
        "\n",
        "  def mountLP(self, title=f\"Problem_{datetime.now()}\"):\n",
        "    self.lpProblem = LpProblem(title, LpMaximize)\n",
        "\n",
        "    # Create variables \n",
        "    self.lpVariables = {}\n",
        "    for produto in self.dfRecipes['PRODUTO']:\n",
        "      self.lpVariables[produto] = LpVariable(name=produto, \n",
        "                                      lowBound=self.dfRecipes.query(f\"PRODUTO == '{produto}'\").iloc[0]['DEMANDA_LOTE'],\n",
        "                                      upBound=None,\n",
        "                                      cat='Integer')\n",
        "      \n",
        "    # Create Objective Function\n",
        "    self.lpProblem += lpSum([ self.lpVariables[produto] * self.dfRecipes.query(f\"PRODUTO == '{produto}'\").iloc[0]['PRECO_UN'] * self.dfRecipes.query(f\"PRODUTO == '{produto}'\").iloc[0]['ITENS_LOTE']  \n",
        "                      for produto in self.dfRecipes['PRODUTO'] ])\n",
        "\n",
        "    # Create Constraints\n",
        "    ingredients = [ column for column in self.dfResources.columns \n",
        "                  if column not in ['PRODUTO', 'PRECO_UN', 'DEMANDA_DIA', 'DEMANDA_LOTE', 'VALOR_BASE', 'ITENS_LOTE', 'PESO_MEDIO_ITEM', 'TEMPO_MEDIO_PRODUCAO'] and len(column) > 0 ]\n",
        "    \n",
        "    for ingredient in ingredients:\n",
        "        self.lpProblem += lpSum([ self.lpVariables[produto] * self.dfRecipes.query(f\"PRODUTO == '{produto}'\").iloc[0][ingredient]  for produto in self.dfRecipes['PRODUTO'] ]) <= self.dfResources[ingredient]\n",
        "    \n",
        "  def optimize(self):\n",
        "    try:\n",
        "      status = self.lpProblem.solve()\n",
        "      if (  status == 1 ):\n",
        "        print(f\"BAKERY - LP SOLUTION {LpStatus[status]}\")\n",
        "        for (fantasyName,var) in self.lpVariables.items():\n",
        "            print(f\"{fantasyName} = {value(var)}\")\n",
        "        print(f\"Profit total: {value(self.lpProblem.objective)}\")\n",
        "      else:\n",
        "        print(\"Solution not found.\")\n",
        "    except AttributeError:\n",
        "      raise AttributeError('LP problem is not defined.')\n",
        "\n",
        "\n",
        "  def showLP(self):\n",
        "    print(self.lpProblem)\n",
        "\n",
        "  def getMinValuesResource(self):\n",
        "    ingredients = [ column for column in self.dfRecipes.columns if column not in ['PRODUTO', 'PRECO_UN', 'DEMANDA_DIA', 'DEMANDA_LOTE', 'VALOR_BASE', 'ITENS_LOTE', 'PESO_MEDIO_ITEM', 'TEMPO_MEDIO_PRODUCAO'] ]\n",
        "\n",
        "    for ingredient in ingredients:\n",
        "      sum = 0\n",
        "      for i in range(self.dfRecipes.shape[0]):\n",
        "        sum += self.dfRecipes.at[i,'DEMANDA_LOTE'] * self.dfRecipes.at[i, ingredient]\n",
        "      print(ingredient,sum )\n"
      ],
      "execution_count": null,
      "outputs": []
    },
    {
      "cell_type": "code",
      "metadata": {
        "colab": {
          "base_uri": "https://localhost:8080/"
        },
        "id": "BlpD9-wi_pKM",
        "outputId": "225f7a1c-986f-44cf-a1ca-7a6d9b5d46d8"
      },
      "source": [
        "myProb = BakeryProblem(From='gsheet', \n",
        "                       SheetUrl='https://docs.google.com/spreadsheets/d/1hwY2ab3CWWZzGYIu1Xnj-4vbM3iQM240EsfiFAG50EM',\n",
        "                       Credentials='sample_data/credentials.json')\n",
        "myProb.mountLP()\n",
        "myProb.showLP()\n",
        "myProb.optimize()\n",
        "# myProb.getMinValuesResource()\n",
        "# myProb.showLP()\n"
      ],
      "execution_count": null,
      "outputs": [
        {
          "output_type": "stream",
          "text": [
            "Problem_2020-12-08_00:30:58.099100:\n",
            "MAXIMIZE\n",
            "0.9*pao_trança_de_coco + 3.74*pão_doce_recheado_com_goiabada + 6.0*pão_doce_sem_recheio + 1.5*pão_francês + 0.0\n",
            "SUBJECT TO\n",
            "_C1: 800 pao_trança_de_coco + 600 pão_doce_recheado_com_goiabada\n",
            " + 500 pão_doce_sem_recheio + 1000 pão_francês <= 180000\n",
            "\n",
            "_C2: 240 pao_trança_de_coco + 92.4 pão_doce_recheado_com_goiabada\n",
            " + 110 pão_doce_sem_recheio <= 5800\n",
            "\n",
            "_C3: 402.8 pao_trança_de_coco + 300 pão_doce_recheado_com_goiabada\n",
            " + 180 pão_doce_sem_recheio <= 25000\n",
            "\n",
            "_C4: 296 pao_trança_de_coco + 16.2 pão_doce_recheado_com_goiabada\n",
            " + 219.34 pão_doce_sem_recheio + 10 pão_francês <= 10000\n",
            "\n",
            "_C5: 8 pao_trança_de_coco + 3 pão_doce_recheado_com_goiabada\n",
            " + 219.75 pão_doce_sem_recheio + 20 pão_francês <= 5000\n",
            "\n",
            "_C6: 378 pão_doce_recheado_com_goiabada <= 20000\n",
            "\n",
            "_C7: 112 pao_trança_de_coco + 150 pão_doce_recheado_com_goiabada <= 8000\n",
            "\n",
            "_C8: 261.18 pão_doce_recheado_com_goiabada + 22.5 pão_doce_sem_recheio\n",
            " + 10 pão_francês <= 15000\n",
            "\n",
            "_C9: 351.43 pao_trança_de_coco <= 5000\n",
            "\n",
            "_C10: 230.1 pão_doce_recheado_com_goiabada + 22.5 pão_doce_sem_recheio\n",
            " + 140 pão_francês <= 50000\n",
            "\n",
            "_C11: 10 pão_francês <= 5000\n",
            "\n",
            "VARIABLES\n",
            "2 <= pao_trança_de_coco Integer\n",
            "20 <= pão_doce_recheado_com_goiabada Integer\n",
            "7 <= pão_doce_sem_recheio Integer\n",
            "100 <= pão_francês Integer\n",
            "\n",
            "BAKERY - LP SOLUTION Optimal\n",
            "pão francês = 145.0\n",
            "pão doce sem recheio = 8.0\n",
            "pão doce recheado com goiabada = 48.0\n",
            "pao trança de coco = 2.0\n",
            "Profit total: 446.82\n"
          ],
          "name": "stdout"
        },
        {
          "output_type": "stream",
          "text": [
            "/usr/local/lib/python3.6/dist-packages/pulp/pulp.py:1198: UserWarning: Spaces are not permitted in the name. Converted to '_'\n",
            "  warnings.warn(\"Spaces are not permitted in the name. Converted to '_'\")\n"
          ],
          "name": "stderr"
        }
      ]
    }
  ]
}